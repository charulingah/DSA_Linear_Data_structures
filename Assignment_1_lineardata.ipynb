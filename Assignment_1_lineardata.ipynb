{
 "cells": [
  {
   "cell_type": "markdown",
   "metadata": {},
   "source": [
    "Q1. Write a program to find all pairs of an integer array whose sum is equal to a given number?"
   ]
  },
  {
   "cell_type": "code",
   "execution_count": 69,
   "metadata": {},
   "outputs": [
    {
     "name": "stdout",
     "output_type": "stream",
     "text": [
      "Pair found (2, 8)\n"
     ]
    }
   ],
   "source": [
    "#using sorting\n",
    "\n",
    "def find_pair(nums,target):\n",
    "\n",
    "    #sorting the nums in increasing order\n",
    "    nums.sort()\n",
    "\n",
    "    #find the low and high endpoints\n",
    "\n",
    "    (low, high) = (0, len(nums)-1)\n",
    "\n",
    "    #now we have endpoints we can reduce the search for every iteration\n",
    "\n",
    "    #loop till search space is exhausted\n",
    "\n",
    "    while low < high:\n",
    "        if nums[low] + nums[high] == target: #here low and high are indexes \n",
    "            print(\"Pair found\", (nums[low], nums[high]))\n",
    "            return\n",
    "        #we can increment 'low' if the total is less than target \n",
    "        #we can decrement 'high' if the total is greater than target\n",
    "\n",
    "        if nums[low] + nums[high] < target:\n",
    "            low = low + 1\n",
    "        else:\n",
    "            high = high - 1\n",
    "        \n",
    "    #no pair found \n",
    "    print(\"No pair found\")\n",
    "\n",
    "if __name__ == '__main__':\n",
    " \n",
    "    nums = [8, 7, 2, 7, 3, 1]\n",
    "    target = 10\n",
    " \n",
    "    find_pair(nums, target)\n",
    "\n",
    "\n",
    "\n",
    "    \n"
   ]
  },
  {
   "cell_type": "markdown",
   "metadata": {},
   "source": [
    "Q2. Write a program to reverse an array in place? In place means you cannot create a new array. You have to update the original array."
   ]
  },
  {
   "cell_type": "code",
   "execution_count": 70,
   "metadata": {},
   "outputs": [
    {
     "name": "stdout",
     "output_type": "stream",
     "text": [
      "7\n",
      "6\n",
      "5\n",
      "4\n",
      "3\n",
      "2\n",
      "1\n"
     ]
    }
   ],
   "source": [
    "def reverse_array(arr):\n",
    "\n",
    "    #simple solution can be obtained by traversing the array in reverse order\n",
    "\n",
    "    for i in range(len(arr)-1,-1,-1):\n",
    "        print(arr[i])\n",
    "        \n",
    "    \n",
    "if __name__ == '__main__':\n",
    "\n",
    "    arr = [1,2,3,4,5,6,7]\n",
    "\n",
    "    reverse_array(arr)"
   ]
  },
  {
   "cell_type": "markdown",
   "metadata": {},
   "source": [
    "Q3. Write a program to check if two strings are a rotation of each other?"
   ]
  },
  {
   "cell_type": "code",
   "execution_count": 71,
   "metadata": {},
   "outputs": [
    {
     "name": "stdout",
     "output_type": "stream",
     "text": [
      "rotation\n"
     ]
    }
   ],
   "source": [
    "def rotation_str(str1,str2):\n",
    "    #first we can check lengths of both string if they are not equal then no rotation\n",
    "    #we can first creat a variable to store concatination of string 1\n",
    "    #and then see if string 2 is a substring of temp or not\n",
    "    #if substring then its a rotation \n",
    "    #if no, then no rotation\n",
    "\n",
    "    size1 = len(str1)\n",
    "    size2 = len(str2)\n",
    "\n",
    "    if size1 != size2:\n",
    "        return 0\n",
    "\n",
    "\n",
    "\n",
    "    temp = str1+str1\n",
    "\n",
    "    if (temp.count(str2)>0):\n",
    "        return 1\n",
    "    else:\n",
    "        return 0\n",
    "\n",
    "str1  = \"ABCD\"\n",
    "str2 = \"CDAB\"\n",
    "\n",
    "if rotation_str(str1, str2):\n",
    "\n",
    "    print(\"rotation\")\n",
    "else:\n",
    "    print(\"no rotation\")\n"
   ]
  },
  {
   "cell_type": "markdown",
   "metadata": {},
   "source": [
    "Q4. Write a program to print the first non-repeated character from a string?"
   ]
  },
  {
   "cell_type": "code",
   "execution_count": 72,
   "metadata": {},
   "outputs": [
    {
     "name": "stdout",
     "output_type": "stream",
     "text": [
      "e\n"
     ]
    }
   ],
   "source": [
    "def non_repeateing(str):\n",
    "    #traverse through the string\n",
    "    #create empty dictionary to store the count \n",
    "    #then check for count in dictionary if its 1 then return that value\n",
    "    counts = {}\n",
    "\n",
    "    for chr in str:\n",
    "        if chr in counts:\n",
    "            counts[chr] += 1\n",
    "        else:\n",
    "            counts[chr] = 1\n",
    "    for chr in counts:\n",
    "        if counts[chr] == 1:\n",
    "            return chr\n",
    "    return None\n",
    "str = \"aabbcddcef\"\n",
    "print(non_repeateing(str))\n",
    "    "
   ]
  },
  {
   "cell_type": "markdown",
   "metadata": {},
   "source": [
    "Q5. Read about the Tower of Hanoi algorithm. Write a program to implement it."
   ]
  },
  {
   "cell_type": "code",
   "execution_count": 73,
   "metadata": {},
   "outputs": [
    {
     "name": "stdout",
     "output_type": "stream",
     "text": [
      "Move disk 1 from rod A to rod C\n",
      "Move disk 2 from rod A to rod B\n",
      "Move disk 1 from rod C to rod B\n",
      "Move disk 3 from rod A to rod C\n",
      "Move disk 1 from rod B to rod A\n",
      "Move disk 2 from rod B to rod C\n",
      "Move disk 1 from rod A to rod C\n"
     ]
    }
   ],
   "source": [
    "# Recursive Python function to solve tower of hanoi\n",
    " \n",
    "def TowerOfHanoi(n , from_rod, to_rod, aux_rod):\n",
    "    if n == 0:\n",
    "        return\n",
    "    TowerOfHanoi(n-1, from_rod, aux_rod, to_rod)\n",
    "    print(\"Move disk\",n,\"from rod\",from_rod,\"to rod\",to_rod)\n",
    "    TowerOfHanoi(n-1, aux_rod, to_rod, from_rod)\n",
    "         \n",
    "# Driver code\n",
    "n = 3\n",
    "TowerOfHanoi(n, 'A', 'C', 'B')\n",
    "# A, C, B are the name of rods\n",
    " \n",
    " "
    
   ]
  },
  {
   "cell_type": "markdown",
   "metadata": {},
   "source": [
    "Q6. Read about infix, prefix, and postfix expressions. Write a program to convert postfix to prefix expression."
   ]
  },
  {
   "cell_type": "code",
   "execution_count": 74,
   "metadata": {},
   "outputs": [
    {
     "name": "stdout",
     "output_type": "stream",
     "text": [
      "Prefix :  +AB-CD\n"
     ]
    }
   ],
   "source": [
    "# function to check if\n",
    "# character is operator or not\n",
    " \n",
    " \n",
    "def isOperator(x):\n",
    " \n",
    "    if x == \"+\":\n",
    "        return True\n",
    " \n",
    "    if x == \"-\":\n",
    "        return True\n",
    " \n",
    "    if x == \"/\":\n",
    "        return True\n",
    " \n",
    "    if x == \"*\":\n",
    "        return True\n",
    " \n",
    "    return False\n",
    " \n",
    "# Convert postfix to Prefix expression\n",
    " \n",
    " \n",
    "def postToPre(post_exp):\n",
    " \n",
    "    s = []\n",
    " \n",
    "    # length of expression\n",
    "    length = len(post_exp)\n",
    " \n",
    "    # reading from right to left\n",
    "    for i in range(length):\n",
    " \n",
    "        # check if symbol is operator\n",
    "        if (isOperator(post_exp[i])):\n",
    " \n",
    "            # pop two operands from stack\n",
    "            op1 = s[-1]\n",
    "            s.pop()\n",
    "            op2 = s[-1]\n",
    "            s.pop()\n",
    " \n",
    "            # concat the operands and operator\n",
    "            temp = post_exp[i] + op2 + op1\n",
    " \n",
    "            # Push string temp back to stack\n",
    "            s.append(temp)\n",
    " \n",
    "        # if symbol is an operand\n",
    "        else:\n",
    " \n",
    "            # push the operand to the stack\n",
    "            s.append(post_exp[i])\n",
    " \n",
    "    \n",
    "    ans = \"\"\n",
    "    for i in s:\n",
    "        ans += i\n",
    "    return ans\n",
    " \n",
    " \n",
    "# Driver Code\n",
    "if __name__ == \"__main__\":\n",
    " \n",
    "    post_exp = \"AB+CD-\"\n",
    "     \n",
    "    # Function call\n",
    "    print(\"Prefix : \", postToPre(post_exp))\n",
    " "
   ]
  },
  {
   "cell_type": "markdown",
   "metadata": {},
   "source": [
    "Q7. Write a program to convert prefix expression to infix expression."
   ]
  },
  {
   "cell_type": "code",
   "execution_count": 75,
   "metadata": {},
   "outputs": [
    {
     "name": "stdout",
     "output_type": "stream",
     "text": [
      "((A-(B/C))*((A/K)-L))\n"
     ]
    }
   ],
   "source": [
    "# Python Program to convert prefix to Infix\n",
    "def prefixToInfix(prefix):\n",
    "    stack = []\n",
    "     \n",
    "    # read prefix in reverse order\n",
    "    i = len(prefix) - 1\n",
    "    while i >= 0:\n",
    "        if not isOperator(prefix[i]):\n",
    "             \n",
    "            # symbol is operand\n",
    "            stack.append(prefix[i])\n",
    "            i -= 1\n",
    "        else:\n",
    "           \n",
    "            # symbol is operator\n",
    "            str = \"(\" + stack.pop() + prefix[i] + stack.pop() + \")\"\n",
    "            stack.append(str)\n",
    "            i -= 1\n",
    "     \n",
    "    return stack.pop()\n",
    " \n",
    "def isOperator(c):\n",
    "    if c == \"*\" or c == \"+\" or c == \"-\" or c == \"/\" or c == \"^\" or c == \"(\" or c == \")\":\n",
    "        return True\n",
    "    else:\n",
    "        return False\n",
    " \n",
    "# Driver code\n",
    "if __name__==\"__main__\":\n",
    "    str = \"*-A/BC-/AKL\"\n",
    "    print(prefixToInfix(str))"
   ]
  },
  {
   "cell_type": "markdown",
   "metadata": {},
   "source": [
    "Q8. Write a program to check if all the brackets are closed in a given code snippet."
   ]
  },
  {
   "cell_type": "code",
   "execution_count": 77,
   "metadata": {},
   "outputs": [
    {
     "name": "stdout",
     "output_type": "stream",
     "text": [
      "Brackets closed\n"
     ]
    }
   ],
   "source": [
    "# function to check if\n",
    "# brackets are balanced/closed\n",
    " \n",
    " \n",
    "def areBracketsBalanced(expr):\n",
    "    stack = []\n",
    " \n",
    "    # Traversing the Expression\n",
    "    for char in expr:\n",
    "        if char in [\"(\", \"{\", \"[\"]:\n",
    " \n",
    "            # Push the element in the stack\n",
    "            stack.append(char)\n",
    "        else:\n",
    " \n",
    "            # IF current character is not opening\n",
    "            # bracket, then it must be closing.\n",
    "            # So stack cannot be empty at this point.\n",
    "            if not stack:\n",
    "                return False\n",
    "            current_char = stack.pop()\n",
    "            if current_char == '(':\n",
    "                if char != \")\":\n",
    "                    return False\n",
    "            if current_char == '{':\n",
    "                if char != \"}\":\n",
    "                    return False\n",
    "            if current_char == '[':\n",
    "                if char != \"]\":\n",
    "                    return False\n",
    " \n",
    "    # Check Empty Stack\n",
    "    if stack:\n",
    "        return False\n",
    "    return True\n",
    " \n",
    " \n",
    "# Driver Code\n",
    "if __name__ == \"__main__\":\n",
    "    expr = \"{()}[]\"\n",
    " \n",
    "    # Function call\n",
    "    if areBracketsBalanced(expr):\n",
    "        print(\"Brackets closed\")\n",
    "    else:\n",
    "        print(\"Not Closed\")\n",
    " "
   ]
  },
  {
   "cell_type": "markdown",
   "metadata": {},
   "source": [
    "Q9. Write a program to reverse a stack."
   ]
  },
  {
   "cell_type": "code",
   "execution_count": 79,
   "metadata": {},
   "outputs": [
    {
     "name": "stdout",
     "output_type": "stream",
     "text": [
      "Original Stack \n",
      "1 2 3 4 \n",
      "Reversed Stack \n",
      "4 3 2 1 \n"
     ]
    }
   ],
   "source": [
    "# Below is a recursive function\n",
    "# that inserts an element\n",
    "# at the bottom of a stack.\n",
    "def insertAtBottom(stack, item):\n",
    "    if isEmpty(stack):\n",
    "        push(stack, item)\n",
    "    else:\n",
    "        temp = pop(stack)\n",
    "        insertAtBottom(stack, item)\n",
    "        push(stack, temp)\n",
    " \n",
    "# Below is the function that\n",
    "# reverses the given stack\n",
    "# using insertAtBottom()\n",
    "def reverse(stack):\n",
    "    if not isEmpty(stack):\n",
    "        temp = pop(stack)\n",
    "        reverse(stack)\n",
    "        insertAtBottom(stack, temp)\n",
    " \n",
    "\n",
    "# Function to create a stack.\n",
    "# It initializes size of stack\n",
    "# as 0\n",
    "def createStack():\n",
    "    stack = []\n",
    "    return stack\n",
    " \n",
    "# Function to check if\n",
    "# the stack is empty\n",
    "def isEmpty( stack ):\n",
    "    return len(stack) == 0\n",
    " \n",
    "# Function to push an\n",
    "# item to stack\n",
    "def push( stack, item ):\n",
    "    stack.append( item )\n",
    " \n",
    "# Function to pop an\n",
    "# item from stack\n",
    "def pop( stack ):\n",
    " \n",
    "    # If stack is empty\n",
    "    # then error\n",
    "    if(isEmpty( stack )):\n",
    "        print(\"Stack Underflow \")\n",
    "        exit(1)\n",
    " \n",
    "    return stack.pop()\n",
    " \n",
    "# Function to print the stack\n",
    "def prints(stack):\n",
    "    for i in range(len(stack)-1, -1, -1):\n",
    "        print(stack[i], end = ' ')\n",
    "    print()\n",
    " \n",
    "# Driver Code\n",
    " \n",
    "stack = createStack()\n",
    "push( stack, 4)\n",
    "push( stack, 3 )\n",
    "push( stack, 2 )\n",
    "push( stack, 1 )\n",
    "print(\"Original Stack \")\n",
    "prints(stack)\n",
    " \n",
    "reverse(stack)\n",
    " \n",
    "print(\"Reversed Stack \")\n",
    "prints(stack)"
   ]
  },
  {
   "cell_type": "markdown",
   "metadata": {},
   "source": [
    "Q10. Write a program to find the smallest number using a stack."
   ]
  },
  {
   "cell_type": "code",
   "execution_count": 80,
   "metadata": {},
   "outputs": [
    {
     "name": "stdout",
     "output_type": "stream",
     "text": [
      "The smallest number is \n",
      "3\n"
     ]
    }
   ],
   "source": [
    "#so first we create a stack, then sort it and then return the smallest number using index\n",
    "# This function return the sorted stack\n",
    "def sortStack ( stack ):\n",
    "    tmpStack = createStack()\n",
    "    while(isEmpty(stack) == False):\n",
    "         \n",
    "        # pop out the first element\n",
    "        tmp = top(stack)\n",
    "        pop(stack)\n",
    " \n",
    "        # while temporary stack is not\n",
    "        # empty and top of stack is\n",
    "        # greater than temp\n",
    "        while(isEmpty(tmpStack) == False and\n",
    "             int(top(tmpStack)) > int(tmp)):\n",
    "             \n",
    "            # pop from temporary stack and\n",
    "            # push it to the input stack\n",
    "            push(stack,top(tmpStack))\n",
    "            pop(tmpStack)\n",
    " \n",
    "        # push temp in temporary of stack\n",
    "        push(tmpStack,tmp)\n",
    "     \n",
    "    return tmpStack\n",
    " \n",
    "# Function to create a stack.\n",
    "# It initializes size of stack\n",
    "# as 0\n",
    "def createStack():\n",
    "    stack = []\n",
    "    return stack\n",
    " \n",
    "# Function to check if\n",
    "# the stack is empty\n",
    "def isEmpty( stack ):\n",
    "    return len(stack) == 0\n",
    " \n",
    "# Function to push an\n",
    "# item to stack\n",
    "def push( stack, item ):\n",
    "    stack.append( item )\n",
    " \n",
    "# Function to get top\n",
    "# item of stack\n",
    "def top( stack ):\n",
    "    p = len(stack)\n",
    "    return stack[p-1]\n",
    " \n",
    "# Function to pop an\n",
    "# item from stack\n",
    "def pop( stack ):\n",
    " \n",
    "    # If stack is empty\n",
    "    # then error\n",
    "    if(isEmpty( stack )):\n",
    "        print(\"Stack Underflow \")\n",
    "        exit(1)\n",
    " \n",
    "    return stack.pop()\n",
    " \n",
    "# Function to print the stack\n",
    "def prints(stack):\n",
    "    for i in range(len(stack)):\n",
    "        print(stack[0])\n",
    "        break\n",
    "    \n",
    " \n",
    "# Driver Code\n",
    "stack = createStack()\n",
    "push( stack, 34 )\n",
    "push( stack, 3 )\n",
    "push( stack, 31 )\n",
    "push( stack, 98 )\n",
    "push( stack, 92 )\n",
    "push( stack, 23 )\n",
    " \n",
    "print(\"The smallest number is \")\n",
    "sortedst = sortStack ( stack )\n",
    "prints(sortedst)"
   ]
  }
 ],
 "metadata": {
  "interpreter": {
   "hash": "949777d72b0d2535278d3dc13498b2535136f6dfe0678499012e853ee9abcab1"
  },
  "kernelspec": {
   "display_name": "Python 3.7.1 64-bit",
   "language": "python",
   "name": "python3"
  },
  "language_info": {
   "codemirror_mode": {
    "name": "ipython",
    "version": 3
   },
   "file_extension": ".py",
   "mimetype": "text/x-python",
   "name": "python",
   "nbconvert_exporter": "python",
   "pygments_lexer": "ipython3",
   "version": "3.7.1"
  },
  "orig_nbformat": 4
 },
 "nbformat": 4,
 "nbformat_minor": 2
}
